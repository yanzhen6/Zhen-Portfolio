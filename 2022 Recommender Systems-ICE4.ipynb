{
 "cells": [
  {
   "cell_type": "code",
   "execution_count": 1,
   "id": "d151ecc6",
   "metadata": {},
   "outputs": [],
   "source": [
    "import pandas as pd\n",
    "import numpy as np\n",
    "import matplotlib.pyplot as plt"
   ]
  },
  {
   "cell_type": "code",
   "execution_count": 9,
   "id": "3298ee4a",
   "metadata": {},
   "outputs": [],
   "source": [
    "interest = pd.read_csv(\"/Users/yanzhen/Desktop/interest.csv\")\n",
    "interest.describe()"
   ]
  },
  {
   "cell_type": "code",
   "execution_count": 31,
   "id": "8ea2a78f",
   "metadata": {},
   "outputs": [
    {
     "data": {
      "text/html": [
       "<div>\n",
       "<style scoped>\n",
       "    .dataframe tbody tr th:only-of-type {\n",
       "        vertical-align: middle;\n",
       "    }\n",
       "\n",
       "    .dataframe tbody tr th {\n",
       "        vertical-align: top;\n",
       "    }\n",
       "\n",
       "    .dataframe thead th {\n",
       "        text-align: right;\n",
       "    }\n",
       "</style>\n",
       "<table border=\"1\" class=\"dataframe\">\n",
       "  <thead>\n",
       "    <tr style=\"text-align: right;\">\n",
       "      <th></th>\n",
       "      <th>prediction.difficulty</th>\n",
       "      <th>nlp.difficulty</th>\n",
       "      <th>sna.difficulty</th>\n",
       "      <th>neural.difficulty</th>\n",
       "      <th>viz.difficulty</th>\n",
       "      <th>loop.difficulty</th>\n",
       "      <th>sql.difficulty</th>\n",
       "    </tr>\n",
       "  </thead>\n",
       "  <tbody>\n",
       "    <tr>\n",
       "      <th>count</th>\n",
       "      <td>52.000000</td>\n",
       "      <td>50.00000</td>\n",
       "      <td>52.000000</td>\n",
       "      <td>50.000000</td>\n",
       "      <td>50.000000</td>\n",
       "      <td>50.000000</td>\n",
       "      <td>49.000000</td>\n",
       "    </tr>\n",
       "    <tr>\n",
       "      <th>mean</th>\n",
       "      <td>3.807692</td>\n",
       "      <td>4.22000</td>\n",
       "      <td>3.769231</td>\n",
       "      <td>4.400000</td>\n",
       "      <td>4.060000</td>\n",
       "      <td>4.080000</td>\n",
       "      <td>3.693878</td>\n",
       "    </tr>\n",
       "    <tr>\n",
       "      <th>std</th>\n",
       "      <td>0.864064</td>\n",
       "      <td>0.86402</td>\n",
       "      <td>0.899137</td>\n",
       "      <td>0.782461</td>\n",
       "      <td>0.818411</td>\n",
       "      <td>0.829064</td>\n",
       "      <td>1.103103</td>\n",
       "    </tr>\n",
       "    <tr>\n",
       "      <th>min</th>\n",
       "      <td>2.000000</td>\n",
       "      <td>2.00000</td>\n",
       "      <td>2.000000</td>\n",
       "      <td>2.000000</td>\n",
       "      <td>3.000000</td>\n",
       "      <td>3.000000</td>\n",
       "      <td>1.000000</td>\n",
       "    </tr>\n",
       "    <tr>\n",
       "      <th>25%</th>\n",
       "      <td>3.000000</td>\n",
       "      <td>4.00000</td>\n",
       "      <td>3.000000</td>\n",
       "      <td>4.000000</td>\n",
       "      <td>3.000000</td>\n",
       "      <td>3.000000</td>\n",
       "      <td>3.000000</td>\n",
       "    </tr>\n",
       "    <tr>\n",
       "      <th>50%</th>\n",
       "      <td>4.000000</td>\n",
       "      <td>4.00000</td>\n",
       "      <td>4.000000</td>\n",
       "      <td>5.000000</td>\n",
       "      <td>4.000000</td>\n",
       "      <td>4.000000</td>\n",
       "      <td>4.000000</td>\n",
       "    </tr>\n",
       "    <tr>\n",
       "      <th>75%</th>\n",
       "      <td>5.000000</td>\n",
       "      <td>5.00000</td>\n",
       "      <td>4.250000</td>\n",
       "      <td>5.000000</td>\n",
       "      <td>5.000000</td>\n",
       "      <td>5.000000</td>\n",
       "      <td>5.000000</td>\n",
       "    </tr>\n",
       "    <tr>\n",
       "      <th>max</th>\n",
       "      <td>5.000000</td>\n",
       "      <td>5.00000</td>\n",
       "      <td>5.000000</td>\n",
       "      <td>5.000000</td>\n",
       "      <td>5.000000</td>\n",
       "      <td>5.000000</td>\n",
       "      <td>5.000000</td>\n",
       "    </tr>\n",
       "  </tbody>\n",
       "</table>\n",
       "</div>"
      ],
      "text/plain": [
       "       prediction.difficulty  nlp.difficulty  sna.difficulty  \\\n",
       "count              52.000000        50.00000       52.000000   \n",
       "mean                3.807692         4.22000        3.769231   \n",
       "std                 0.864064         0.86402        0.899137   \n",
       "min                 2.000000         2.00000        2.000000   \n",
       "25%                 3.000000         4.00000        3.000000   \n",
       "50%                 4.000000         4.00000        4.000000   \n",
       "75%                 5.000000         5.00000        4.250000   \n",
       "max                 5.000000         5.00000        5.000000   \n",
       "\n",
       "       neural.difficulty  viz.difficulty  loop.difficulty  sql.difficulty  \n",
       "count          50.000000       50.000000        50.000000       49.000000  \n",
       "mean            4.400000        4.060000         4.080000        3.693878  \n",
       "std             0.782461        0.818411         0.829064        1.103103  \n",
       "min             2.000000        3.000000         3.000000        1.000000  \n",
       "25%             4.000000        3.000000         3.000000        3.000000  \n",
       "50%             5.000000        4.000000         4.000000        4.000000  \n",
       "75%             5.000000        5.000000         5.000000        5.000000  \n",
       "max             5.000000        5.000000         5.000000        5.000000  "
      ]
     },
     "execution_count": 31,
     "metadata": {},
     "output_type": "execute_result"
    }
   ],
   "source": [
    "difficulty = pd.read_csv(\"/Users/yanzhen/Desktop/difficulty.csv\")\n",
    "difficulty.describe()"
   ]
  },
  {
   "cell_type": "code",
   "execution_count": 40,
   "id": "613c3f0f",
   "metadata": {},
   "outputs": [
    {
     "name": "stdout",
     "output_type": "stream",
     "text": [
      "   difficulty  interest\n",
      "0    3.807692  4.326923\n",
      "1    4.220000  4.431373\n",
      "2    3.769231  4.134615\n",
      "3    4.400000  4.490196\n",
      "4    4.060000  4.596154\n",
      "5    4.080000  4.431373\n",
      "6    3.693878  4.431373\n"
     ]
    }
   ],
   "source": [
    "clean = pd.DataFrame({\n",
    "    'difficulty':[3.807692,4.22000,3.769231,4.400000,4.060000,4.080000,3.693878],\n",
    "    'interest':[4.326923,4.431373,4.134615,4.490196,4.596154,4.431373,4.431373]})\n",
    "print(clean)"
   ]
  },
  {
   "cell_type": "code",
   "execution_count": 41,
   "id": "7c514d2b",
   "metadata": {},
   "outputs": [
    {
     "data": {
      "text/html": [
       "<div>\n",
       "<style scoped>\n",
       "    .dataframe tbody tr th:only-of-type {\n",
       "        vertical-align: middle;\n",
       "    }\n",
       "\n",
       "    .dataframe tbody tr th {\n",
       "        vertical-align: top;\n",
       "    }\n",
       "\n",
       "    .dataframe thead th {\n",
       "        text-align: right;\n",
       "    }\n",
       "</style>\n",
       "<table border=\"1\" class=\"dataframe\">\n",
       "  <thead>\n",
       "    <tr style=\"text-align: right;\">\n",
       "      <th></th>\n",
       "      <th>difficulty</th>\n",
       "      <th>interest</th>\n",
       "    </tr>\n",
       "  </thead>\n",
       "  <tbody>\n",
       "    <tr>\n",
       "      <th>prediction</th>\n",
       "      <td>3.807692</td>\n",
       "      <td>4.326923</td>\n",
       "    </tr>\n",
       "    <tr>\n",
       "      <th>nlp</th>\n",
       "      <td>4.220000</td>\n",
       "      <td>4.431373</td>\n",
       "    </tr>\n",
       "    <tr>\n",
       "      <th>sna</th>\n",
       "      <td>3.769231</td>\n",
       "      <td>4.134615</td>\n",
       "    </tr>\n",
       "    <tr>\n",
       "      <th>neural</th>\n",
       "      <td>4.400000</td>\n",
       "      <td>4.490196</td>\n",
       "    </tr>\n",
       "    <tr>\n",
       "      <th>viz</th>\n",
       "      <td>4.060000</td>\n",
       "      <td>4.596154</td>\n",
       "    </tr>\n",
       "    <tr>\n",
       "      <th>loop</th>\n",
       "      <td>4.080000</td>\n",
       "      <td>4.431373</td>\n",
       "    </tr>\n",
       "    <tr>\n",
       "      <th>sql</th>\n",
       "      <td>3.693878</td>\n",
       "      <td>4.431373</td>\n",
       "    </tr>\n",
       "  </tbody>\n",
       "</table>\n",
       "</div>"
      ],
      "text/plain": [
       "            difficulty  interest\n",
       "prediction    3.807692  4.326923\n",
       "nlp           4.220000  4.431373\n",
       "sna           3.769231  4.134615\n",
       "neural        4.400000  4.490196\n",
       "viz           4.060000  4.596154\n",
       "loop          4.080000  4.431373\n",
       "sql           3.693878  4.431373"
      ]
     },
     "execution_count": 41,
     "metadata": {},
     "output_type": "execute_result"
    }
   ],
   "source": [
    "clean.index = ['prediction','nlp','sna','neural','viz','loop','sql']\n",
    "clean"
   ]
  },
  {
   "cell_type": "markdown",
   "id": "57c51fdb",
   "metadata": {},
   "source": [
    "### Content-Based Recommender"
   ]
  },
  {
   "cell_type": "code",
   "execution_count": 44,
   "id": "064ded67",
   "metadata": {},
   "outputs": [
    {
     "data": {
      "image/png": "[encoded data removed]",
      "text/plain": [
       "<Figure size 432x288 with 1 Axes>"
      ]
     },
     "metadata": {
      "needs_background": "light"
     },
     "output_type": "display_data"
    }
   ],
   "source": [
    "plt.scatter(clean.difficulty, clean.interest)\n",
    "\n",
    "for i, index in enumerate (clean.index):\n",
    "    plt.text(clean.difficulty[i]+0.01, clean.interest[i]+0.01, index)\n",
    "    \n",
    "plt.xlim (3.5, 4.7)\n",
    "plt.ylim (4.0, 4.7)\n",
    "plt.xlabel(\"difficulty\")\n",
    "plt.ylabel(\"interest\");"
   ]
  },
  {
   "cell_type": "code",
   "execution_count": 45,
   "id": "685ec1e0",
   "metadata": {},
   "outputs": [
    {
     "data": {
      "text/html": [
       "<div>\n",
       "<style scoped>\n",
       "    .dataframe tbody tr th:only-of-type {\n",
       "        vertical-align: middle;\n",
       "    }\n",
       "\n",
       "    .dataframe tbody tr th {\n",
       "        vertical-align: top;\n",
       "    }\n",
       "\n",
       "    .dataframe thead th {\n",
       "        text-align: right;\n",
       "    }\n",
       "</style>\n",
       "<table border=\"1\" class=\"dataframe\">\n",
       "  <thead>\n",
       "    <tr style=\"text-align: right;\">\n",
       "      <th></th>\n",
       "      <th>difficulty</th>\n",
       "      <th>interest</th>\n",
       "      <th>distance</th>\n",
       "    </tr>\n",
       "  </thead>\n",
       "  <tbody>\n",
       "    <tr>\n",
       "      <th>prediction</th>\n",
       "      <td>3.807692</td>\n",
       "      <td>4.326923</td>\n",
       "      <td>0.000000</td>\n",
       "    </tr>\n",
       "    <tr>\n",
       "      <th>sql</th>\n",
       "      <td>3.693878</td>\n",
       "      <td>4.431373</td>\n",
       "      <td>0.154478</td>\n",
       "    </tr>\n",
       "    <tr>\n",
       "      <th>sna</th>\n",
       "      <td>3.769231</td>\n",
       "      <td>4.134615</td>\n",
       "      <td>0.196116</td>\n",
       "    </tr>\n",
       "    <tr>\n",
       "      <th>loop</th>\n",
       "      <td>4.080000</td>\n",
       "      <td>4.431373</td>\n",
       "      <td>0.291653</td>\n",
       "    </tr>\n",
       "    <tr>\n",
       "      <th>viz</th>\n",
       "      <td>4.060000</td>\n",
       "      <td>4.596154</td>\n",
       "      <td>0.368978</td>\n",
       "    </tr>\n",
       "    <tr>\n",
       "      <th>nlp</th>\n",
       "      <td>4.220000</td>\n",
       "      <td>4.431373</td>\n",
       "      <td>0.425332</td>\n",
       "    </tr>\n",
       "    <tr>\n",
       "      <th>neural</th>\n",
       "      <td>4.400000</td>\n",
       "      <td>4.490196</td>\n",
       "      <td>0.614400</td>\n",
       "    </tr>\n",
       "  </tbody>\n",
       "</table>\n",
       "</div>"
      ],
      "text/plain": [
       "            difficulty  interest  distance\n",
       "prediction    3.807692  4.326923  0.000000\n",
       "sql           3.693878  4.431373  0.154478\n",
       "sna           3.769231  4.134615  0.196116\n",
       "loop          4.080000  4.431373  0.291653\n",
       "viz           4.060000  4.596154  0.368978\n",
       "nlp           4.220000  4.431373  0.425332\n",
       "neural        4.400000  4.490196  0.614400"
      ]
     },
     "execution_count": 45,
     "metadata": {},
     "output_type": "execute_result"
    }
   ],
   "source": [
    "import math # You will need math library to calculate the eulidician distance\n",
    "\n",
    "# Create a new column called distance. And assign 0 to all rows temporarily.\n",
    "clean_distance = clean.copy()\n",
    "clean_distance['distance'] = 0\n",
    "\n",
    "# Pick any row to start. Here I am using prediction as an example\n",
    "item = clean_distance.loc['prediction',]\n",
    "\n",
    "# Loop around the data frame index; Obtain the target row; Calculate the distance\n",
    "# Assign to d; And assign to the corresponding cell.\n",
    "for i in clean_distance.index:\n",
    "    target = clean_distance.loc[i,]\n",
    "    d = math.dist(item, target)\n",
    "    clean_distance.loc[i, 'distance'] = d\n",
    "\n",
    "# Sort the result by distance\n",
    "clean_distance.sort_values('distance', ascending=True)"
   ]
  },
  {
   "cell_type": "code",
   "execution_count": 46,
   "id": "9f534fc1",
   "metadata": {},
   "outputs": [
    {
     "data": {
      "text/plain": [
       "array([[1.        , 0.99922723, 0.99984604, 0.99856396, 0.99999823,\n",
       "        0.99974725, 0.99964159],\n",
       "       [0.99922723, 1.        , 0.99976308, 0.99989801, 0.99929948,\n",
       "        0.99985835, 0.99781683],\n",
       "       [0.99984604, 0.99976308, 1.        , 0.99935025, 0.99987732,\n",
       "        0.99998782, 0.99901794],\n",
       "       [0.99856396, 0.99989801, 0.99935025, 1.        , 0.99866309,\n",
       "        0.99951599, 0.99677186],\n",
       "       [0.99999823, 0.99929948, 0.99987732, 0.99866309, 1.        ,\n",
       "        0.99978781, 0.99958939],\n",
       "       [0.99974725, 0.99985835, 0.99998782, 0.99951599, 0.99978781,\n",
       "        1.        , 0.99878705],\n",
       "       [0.99964159, 0.99781683, 0.99901794, 0.99677186, 0.99958939,\n",
       "        0.99878705, 1.        ]])"
      ]
     },
     "execution_count": 46,
     "metadata": {},
     "output_type": "execute_result"
    }
   ],
   "source": [
    "from sklearn.metrics.pairwise import cosine_similarity\n",
    "\n",
    "cosine_sim = cosine_similarity(clean)\n",
    "cosine_sim"
   ]
  },
  {
   "cell_type": "code",
   "execution_count": 47,
   "id": "857d6754",
   "metadata": {},
   "outputs": [
    {
     "data": {
      "text/plain": [
       "prediction    0\n",
       "nlp           1\n",
       "sna           2\n",
       "neural        3\n",
       "viz           4\n",
       "loop          5\n",
       "sql           6\n",
       "dtype: int64"
      ]
     },
     "execution_count": 47,
     "metadata": {},
     "output_type": "execute_result"
    }
   ],
   "source": [
    "module_indices = pd.Series(range(len(clean.index)), index = clean.index)\n",
    "\n",
    "module_indices"
   ]
  },
  {
   "cell_type": "code",
   "execution_count": 48,
   "id": "be29219e",
   "metadata": {},
   "outputs": [],
   "source": [
    "def get_recommendations(name, cosine_sim, matrix_indices):\n",
    "    idx = matrix_indices[name]\n",
    "    sim_scores = list(enumerate(cosine_sim[idx]))\n",
    "    sim_scores = sorted(sim_scores, key=lambda x: x[1], reverse=True)\n",
    "    sim_scores = sim_scores[1:6]\n",
    "    rank_indices = [i[0] for i in sim_scores]\n",
    "    return matrix_indices.iloc[rank_indices]"
   ]
  },
  {
   "cell_type": "code",
   "execution_count": 49,
   "id": "ebd946cb",
   "metadata": {},
   "outputs": [
    {
     "data": {
      "text/plain": [
       "viz     4\n",
       "sna     2\n",
       "loop    5\n",
       "sql     6\n",
       "nlp     1\n",
       "dtype: int64"
      ]
     },
     "execution_count": 49,
     "metadata": {},
     "output_type": "execute_result"
    }
   ],
   "source": [
    "get_recommendations(\"prediction\", cosine_sim, module_indices)"
   ]
  },
  {
   "cell_type": "markdown",
   "id": "ef6be07e",
   "metadata": {},
   "source": [
    "### Collaborative Filter"
   ]
  },
  {
   "cell_type": "code",
   "execution_count": 50,
   "id": "7ded55c8",
   "metadata": {},
   "outputs": [],
   "source": [
    "interest_na = interest.dropna()\n",
    "interest_na.index = interest_na.id\n",
    "interest_clean = interest_na.drop('id', axis=1)"
   ]
  },
  {
   "cell_type": "code",
   "execution_count": 51,
   "id": "37c9820b",
   "metadata": {},
   "outputs": [],
   "source": [
    "cosine_sim_interest = cosine_similarity(interest_clean, interest_clean)\n",
    "id_indices = pd.Series(range(len(interest_clean.index)), index = interest_clean.index)"
   ]
  },
  {
   "cell_type": "code",
   "execution_count": 52,
   "id": "54dac3e2",
   "metadata": {},
   "outputs": [
    {
     "data": {
      "text/plain": [
       "id\n",
       "s2      1\n",
       "s6      5\n",
       "s12    11\n",
       "s13    12\n",
       "s16    15\n",
       "dtype: int64"
      ]
     },
     "execution_count": 52,
     "metadata": {},
     "output_type": "execute_result"
    }
   ],
   "source": [
    "get_recommendations(\"s5\", cosine_sim_interest, id_indices)"
   ]
  }
 ],
 "metadata": {
  "kernelspec": {
   "display_name": "Python 3",
   "language": "python",
   "name": "python3"
  },
  "language_info": {
   "codemirror_mode": {
    "name": "ipython",
    "version": 3
   },
   "file_extension": ".py",
   "mimetype": "text/x-python",
   "name": "python",
   "nbconvert_exporter": "python",
   "pygments_lexer": "ipython3",
   "version": "3.8.8"
  }
 },
 "nbformat": 4,
 "nbformat_minor": 5
}
